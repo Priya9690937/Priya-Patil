{
 "cells": [
  {
   "cell_type": "code",
   "execution_count": 33,
   "id": "5342f7a5",
   "metadata": {},
   "outputs": [],
   "source": [
    "# 2-title"
   ]
  },
  {
   "cell_type": "markdown",
   "id": "6f9a4d7a",
   "metadata": {},
   "source": [
    "# Data Science Tools and Ecosystem"
   ]
  },
  {
   "cell_type": "code",
   "execution_count": null,
   "id": "8a72ff70",
   "metadata": {},
   "outputs": [],
   "source": [
    "# 3-intro"
   ]
  },
  {
   "cell_type": "markdown",
   "id": "0237e12a",
   "metadata": {},
   "source": [
    "# In this notebook, Data Science Tools and Ecosystem are summarized."
   ]
  },
  {
   "cell_type": "code",
   "execution_count": null,
   "id": "ebde1223",
   "metadata": {},
   "outputs": [],
   "source": [
    "# 4-dslanguages"
   ]
  },
  {
   "cell_type": "markdown",
   "id": "342a1f7a",
   "metadata": {},
   "source": [
    "Some of the popular languages that Data Scientists use are:"
   ]
  },
  {
   "cell_type": "markdown",
   "id": "44388f88",
   "metadata": {},
   "source": [
    "##### 1.Python\n",
    "##### 2.R\n",
    "##### 3.SQL\n",
    "##### 4.Java"
   ]
  },
  {
   "cell_type": "code",
   "execution_count": null,
   "id": "37687aeb",
   "metadata": {},
   "outputs": [],
   "source": [
    "#5-dslibraries"
   ]
  },
  {
   "cell_type": "markdown",
   "id": "95924943",
   "metadata": {},
   "source": [
    "Some of the commonly used libraries used by Data Scientists include"
   ]
  },
  {
   "cell_type": "markdown",
   "id": "c9ff69c1",
   "metadata": {},
   "source": [
    "##### 1.Pandas\n",
    "##### 2.Numpy\n",
    "##### 3.Matplotlib\n",
    "##### 4.Scikit-learn"
   ]
  },
  {
   "cell_type": "code",
   "execution_count": 39,
   "id": "818e2147",
   "metadata": {},
   "outputs": [],
   "source": [
    "#6-dstools"
   ]
  },
  {
   "cell_type": "markdown",
   "id": "680266c1",
   "metadata": {},
   "source": [
    "Data Science Tools"
   ]
  },
  {
   "cell_type": "markdown",
   "id": "2e4d1dec",
   "metadata": {},
   "source": [
    "| Data Science Tools | \n",
    "| -------------------| \n",
    "| TensorFlow | \n",
    "| Keras | \n",
    "| Apache Hadoop |\n",
    "| Apache Spark |"
   ]
  },
  {
   "cell_type": "code",
   "execution_count": null,
   "id": "3ac71c8b",
   "metadata": {},
   "outputs": [],
   "source": [
    "#7-introarithmetic"
   ]
  },
  {
   "cell_type": "markdown",
   "id": "9eaeb798",
   "metadata": {},
   "source": [
    "Below are a few examples of evaluating arithmetic expressions in Python"
   ]
  },
  {
   "cell_type": "markdown",
   "id": "1cfafc3a",
   "metadata": {},
   "source": [
    "### 5+8=13"
   ]
  },
  {
   "cell_type": "code",
   "execution_count": 40,
   "id": "795a8bce",
   "metadata": {},
   "outputs": [],
   "source": [
    "#8-multiplyandaddintegers"
   ]
  },
  {
   "cell_type": "markdown",
   "id": "3ec0fd6b",
   "metadata": {},
   "source": [
    "This a simple arithmetic expression to mutiply then add integers"
   ]
  },
  {
   "cell_type": "code",
   "execution_count": 41,
   "id": "549384d7",
   "metadata": {},
   "outputs": [
    {
     "data": {
      "text/plain": [
       "17"
      ]
     },
     "execution_count": 41,
     "metadata": {},
     "output_type": "execute_result"
    }
   ],
   "source": [
    "a=3\n",
    "b=4\n",
    "(a*b)+5"
   ]
  },
  {
   "cell_type": "code",
   "execution_count": null,
   "id": "da4d358a",
   "metadata": {},
   "outputs": [],
   "source": [
    "#9-hourstominutes"
   ]
  },
  {
   "cell_type": "markdown",
   "id": "45d7a1af",
   "metadata": {},
   "source": [
    "This will convert 200 minutes to hours by diving by 60"
   ]
  },
  {
   "cell_type": "code",
   "execution_count": 42,
   "id": "a113cb57",
   "metadata": {},
   "outputs": [
    {
     "name": "stdout",
     "output_type": "stream",
     "text": [
      "Please enter minutes:200\n",
      " hours = 3.3333333333333335\n"
     ]
    }
   ],
   "source": [
    "minutes = int(input(\"Please enter minutes:\"))\n",
    "hours = minutes /60\n",
    "print(\" hours\",\"=\",hours)"
   ]
  },
  {
   "cell_type": "code",
   "execution_count": null,
   "id": "123d592a",
   "metadata": {},
   "outputs": [],
   "source": [
    "#10-objectives"
   ]
  },
  {
   "cell_type": "markdown",
   "id": "3673d4df",
   "metadata": {},
   "source": [
    "**Objectives:**"
   ]
  },
  {
   "cell_type": "markdown",
   "id": "d9715439",
   "metadata": {},
   "source": [
    "### List popular languages for Data Science \n",
    "* Python\n",
    "* R\n",
    "* Java\n",
    "* SQL\n",
    "* Julia"
   ]
  },
  {
   "cell_type": "code",
   "execution_count": 43,
   "id": "b7ef032b",
   "metadata": {},
   "outputs": [],
   "source": [
    "#11-authordetails"
   ]
  },
  {
   "cell_type": "markdown",
   "id": "c8674628",
   "metadata": {},
   "source": [
    "# Author\n",
    "------------------------------------------------------------\n",
    "PRIYA"
   ]
  },
  {
   "cell_type": "code",
   "execution_count": null,
   "id": "fe576979",
   "metadata": {},
   "outputs": [],
   "source": []
  },
  {
   "cell_type": "code",
   "execution_count": null,
   "id": "879cdb30",
   "metadata": {},
   "outputs": [],
   "source": []
  }
 ],
 "metadata": {
  "kernelspec": {
   "display_name": "Python 3 (ipykernel)",
   "language": "python",
   "name": "python3"
  },
  "language_info": {
   "codemirror_mode": {
    "name": "ipython",
    "version": 3
   },
   "file_extension": ".py",
   "mimetype": "text/x-python",
   "name": "python",
   "nbconvert_exporter": "python",
   "pygments_lexer": "ipython3",
   "version": "3.9.7"
  }
 },
 "nbformat": 4,
 "nbformat_minor": 5
}
